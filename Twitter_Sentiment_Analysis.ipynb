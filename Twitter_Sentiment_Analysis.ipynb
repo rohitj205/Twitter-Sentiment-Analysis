{
  "nbformat": 4,
  "nbformat_minor": 0,
  "metadata": {
    "kernelspec": {
      "display_name": "Python 3",
      "language": "python",
      "name": "python3"
    },
    "language_info": {
      "codemirror_mode": {
        "name": "ipython",
        "version": 3
      },
      "file_extension": ".py",
      "mimetype": "text/x-python",
      "name": "python",
      "nbconvert_exporter": "python",
      "pygments_lexer": "ipython3",
      "version": "3.8.5"
    },
    "colab": {
      "name": "Twitter Sentiment Analysis.ipynb",
      "provenance": [],
      "collapsed_sections": [],
      "include_colab_link": true
    }
  },
  "cells": [
    {
      "cell_type": "markdown",
      "metadata": {
        "id": "view-in-github",
        "colab_type": "text"
      },
      "source": [
        "<a href=\"https://colab.research.google.com/github/SabarinathK/Twitter-Sentiment-Analysis/blob/main/Twitter_Sentiment_Analysis.ipynb\" target=\"_parent\"><img src=\"https://colab.research.google.com/assets/colab-badge.svg\" alt=\"Open In Colab\"/></a>"
      ]
    },
    {
      "cell_type": "markdown",
      "metadata": {
        "id": "wu1fipPDuJWA"
      },
      "source": [
        "# Twitter Sentimental Analysis\n",
        "\n",
        "## What is sentimental Analysis?\n",
        "*Sentiment Analysis is the process of ‘computationally’ determining whether a piece of writing is positive, negative or   neutral.It’s also known as opinion mining, deriving the opinion or attitude of a speaker*.\n",
        "\n",
        "## Why sentimental Analysis?\n",
        "*Sentiment analysis also is used to monitor and analyse social phenomena, for the spotting of potentially dangerous situations and determining the general mood of the blogosphere.*\n",
        "\n",
        "**This project project is about the sentimental analysis of social platform Twitter, respect to a Id name**\n"
      ]
    },
    {
      "cell_type": "markdown",
      "metadata": {
        "id": "NjBdPmZKuJWP"
      },
      "source": [
        "### Importing Required Library"
      ]
    },
    {
      "cell_type": "code",
      "metadata": {
        "colab": {
          "base_uri": "https://localhost:8080/"
        },
        "id": "cCDF5GCNuJWT",
        "outputId": "05914242-f461-4d86-a179-21c0a2f36a4e"
      },
      "source": [
        "!pip install tweepy\n",
        "!pip install textblob\n",
        "!pip  install wordcloud"
      ],
      "execution_count": null,
      "outputs": [
        {
          "output_type": "stream",
          "text": [
            "Requirement already satisfied: tweepy in /usr/local/lib/python3.7/dist-packages (3.10.0)\n",
            "Requirement already satisfied: six>=1.10.0 in /usr/local/lib/python3.7/dist-packages (from tweepy) (1.15.0)\n",
            "Requirement already satisfied: requests-oauthlib>=0.7.0 in /usr/local/lib/python3.7/dist-packages (from tweepy) (1.3.0)\n",
            "Requirement already satisfied: requests[socks]>=2.11.1 in /usr/local/lib/python3.7/dist-packages (from tweepy) (2.23.0)\n",
            "Requirement already satisfied: oauthlib>=3.0.0 in /usr/local/lib/python3.7/dist-packages (from requests-oauthlib>=0.7.0->tweepy) (3.1.0)\n",
            "Requirement already satisfied: chardet<4,>=3.0.2 in /usr/local/lib/python3.7/dist-packages (from requests[socks]>=2.11.1->tweepy) (3.0.4)\n",
            "Requirement already satisfied: urllib3!=1.25.0,!=1.25.1,<1.26,>=1.21.1 in /usr/local/lib/python3.7/dist-packages (from requests[socks]>=2.11.1->tweepy) (1.24.3)\n",
            "Requirement already satisfied: idna<3,>=2.5 in /usr/local/lib/python3.7/dist-packages (from requests[socks]>=2.11.1->tweepy) (2.10)\n",
            "Requirement already satisfied: certifi>=2017.4.17 in /usr/local/lib/python3.7/dist-packages (from requests[socks]>=2.11.1->tweepy) (2020.12.5)\n",
            "Requirement already satisfied: PySocks!=1.5.7,>=1.5.6; extra == \"socks\" in /usr/local/lib/python3.7/dist-packages (from requests[socks]>=2.11.1->tweepy) (1.7.1)\n",
            "Requirement already satisfied: textblob in /usr/local/lib/python3.7/dist-packages (0.15.3)\n",
            "Requirement already satisfied: nltk>=3.1 in /usr/local/lib/python3.7/dist-packages (from textblob) (3.2.5)\n",
            "Requirement already satisfied: six in /usr/local/lib/python3.7/dist-packages (from nltk>=3.1->textblob) (1.15.0)\n",
            "Requirement already satisfied: wordcloud in /usr/local/lib/python3.7/dist-packages (1.5.0)\n",
            "Requirement already satisfied: numpy>=1.6.1 in /usr/local/lib/python3.7/dist-packages (from wordcloud) (1.19.5)\n",
            "Requirement already satisfied: pillow in /usr/local/lib/python3.7/dist-packages (from wordcloud) (7.1.2)\n"
          ],
          "name": "stdout"
        }
      ]
    },
    {
      "cell_type": "code",
      "metadata": {
        "id": "fwcWzssGuJWb"
      },
      "source": [
        "import pandas as pd\n",
        "import numpy as np\n",
        "import matplotlib.pyplot as plt\n",
        "import seaborn as sns\n",
        "import tweepy        # to get twitter data\n",
        "from tweepy import OAuthHandler\n",
        "from textblob import TextBlob\n",
        "import re\n",
        "from wordcloud import WordCloud"
      ],
      "execution_count": null,
      "outputs": []
    },
    {
      "cell_type": "markdown",
      "metadata": {
        "id": "a-orATBQuJWo"
      },
      "source": [
        "### Twitter API credentials\n",
        " - 1) Search \"Twitter API management\" on web and login with Twitter ID.\n",
        " - 2) Fill the required details Basic info > Intended use > Review > Terms.... on the form & verify mail id.\n",
        " - 3)create app and generate and copy those key listed below"
      ]
    },
    {
      "cell_type": "code",
      "metadata": {
        "id": "1l5tn8JOuJWq"
      },
      "source": [
        "APIkey=#confidential\n",
        "APISecreatkey= #confidential\n",
        "accessToken= #confidential\n",
        "accessTokenSecreat= #confidential"
      ],
      "execution_count": null,
      "outputs": []
    },
    {
      "cell_type": "markdown",
      "metadata": {
        "id": "BVtoOtg6uJWr"
      },
      "source": [
        "### Authentication\n",
        " *we need authenticate because we accessing twitter by python here*"
      ]
    },
    {
      "cell_type": "code",
      "metadata": {
        "id": "ndW0QRcYuJWs"
      },
      "source": [
        "authenticate = tweepy.OAuthHandler(APIkey,APISecreatkey)\n",
        "authenticate .set_access_token(accessToken,accessTokenSecreat)\n",
        "api=tweepy.API(authenticate)"
      ],
      "execution_count": null,
      "outputs": []
    },
    {
      "cell_type": "code",
      "metadata": {
        "colab": {
          "base_uri": "https://localhost:8080/"
        },
        "id": "rBTylyxKuJWu",
        "outputId": "c9e052a3-956b-414e-e128-6fde8dafc0ea"
      },
      "source": [
        "posts= api.user_timeline(screen_name=\"PUBGMOBILE\",count=100,lang=\"en\",tweet_mode=\"extended\")\n",
        "i=1\n",
        "for tweet in posts[:10]:\n",
        "    print(str(i)+ ')' +tweet.full_text+ \"\\n\") #to know the latest 10 tweet in one by one\n",
        "    i=i+1"
      ],
      "execution_count": null,
      "outputs": [
        {
          "output_type": "stream",
          "text": [
            "1)Want to get your Season 19 Royale Pass at a discount? 🔰 From now until May 16, take advantage of the Group Purchase Perks event in-game to get your RP19 pass 😎 You can either join a group, or create one - it's up to you! 💚 \n",
            "\n",
            "Check out Season 19 now! 🔗 https://t.co/4C7DjNNxPr https://t.co/v2Qx7pIZ5K\n",
            "\n",
            "2)Wait - who gave Buddy Godzilla an energy drink?!? 😳🥤 The cutest sidekick ever has landed in PUBG MOBILE to stand alongside you in combat 💥 #PUBGMOBILE #GodzillaVsKong #TeamGodzilla #PUBGMCompanion\n",
            "\n",
            "Get Buddy Godzilla today! 🔗 https://t.co/i9hLXgscxz https://t.co/8mAvU0k47t\n",
            "\n",
            "3)Godzilla's been really lighting up Erangel recently ⚡👀 Team Godzilla, how have your Titan Strikes encounters with Godzilla been going?! We've heard he gets easily irritated, so watch out... 😬 #PUBGMOBILE #GodzillaVsKong #TeamGodzilla\n",
            "\n",
            "Hop in-game now 🔗 https://t.co/i9hLXgscxz https://t.co/hL2basReWK\n",
            "\n",
            "4)We think our hearts just exploded 😫❤️ Thanks for giving back to your community @BiteGamingg! 🎁 https://t.co/Y0x0513CKN\n",
            "\n",
            "5)Godzilla is wreaking havoc in Erangel and he has drafted some of PUBG MOBILE's best players to battle against Kong in a war of the titans! ⚔️ \n",
            "\n",
            "Any guesses who is on #TeamGodzilla? 🤔 https://t.co/PkSW54IGVc\n",
            "\n",
            "6)Erangel is his now... 🗺️👀 Learn how to dominate Titan Strikes mode alongside Godzilla with our helpful Patch Notes below! 🏆⬇️ #PUBGMOBILE #GodzillaVsKong #TeamGodzilla\n",
            "\n",
            "Patch notes 🔗 https://t.co/eeyHQO9nb0 https://t.co/2to30h3zAf\n",
            "\n",
            "7)Players - Erangel has been taken over by Godzilla! 🙉🗺️ He's shaking things up and making gameplay more intense than ever 🎯🔫 Can you still take home the chicken dinner? 🏆👀 #PUBGMOBILE #GodzillaVsKong #TeamGodzilla\n",
            "\n",
            "Hop in-game today! 🔗 https://t.co/i9hLXgscxz https://t.co/UkqBp3jbze\n",
            "\n",
            "8)He tired, he nap, he want a chicken dinner snacc 🍗😛 With Godzilla Buddy by your side, the battlegrounds just got a whole lot cuter 🤗💚 #PUBGMOBILE #GodzillaVsKong #TeamGodzilla #PUBGMCompanion\n",
            "\n",
            "Get your Godzilla Buddy now! 🔗 https://t.co/i9hLXgscxz https://t.co/Wv93sNk5B2\n",
            "\n",
            "9)Who’s going to take home the $25,000 grand prize? 😱 Catch the season finale of GameOn Titans with Powerbang, Seum, and some special guests! 💫🎉 Airs May 12th @ 5pm PST on https://t.co/jEvsIt1DhL 📺 https://t.co/k6l6UPzJ1c\n",
            "\n",
            "10)⚠️ CAUTION: This video contains dangerous levels of cuteness ⚠️ Meet Buddy Godzilla and Buddy Kong, the adorable miniature versions of your favorite Titans! 😍💛 #PUBGMOBILE #GodzillaVsKong #TeamGodzilla\n",
            "\n",
            "Get your favorite #PUBGMCompanion today! 🔗 https://t.co/i9hLXgscxz https://t.co/YBPkiYho7a\n",
            "\n"
          ],
          "name": "stdout"
        }
      ]
    },
    {
      "cell_type": "markdown",
      "metadata": {
        "id": "kZus4ohPuJWv"
      },
      "source": [
        "### Create dataframe"
      ]
    },
    {
      "cell_type": "code",
      "metadata": {
        "colab": {
          "base_uri": "https://localhost:8080/",
          "height": 418
        },
        "id": "dZzFWXBNuJWw",
        "outputId": "b085c5bb-d84b-4063-bbca-c08f35796377"
      },
      "source": [
        "df= pd.DataFrame([tweet.full_text for tweet in posts],columns=[\"Tweets\"])\n",
        "df"
      ],
      "execution_count": null,
      "outputs": [
        {
          "output_type": "execute_result",
          "data": {
            "text/html": [
              "<div>\n",
              "<style scoped>\n",
              "    .dataframe tbody tr th:only-of-type {\n",
              "        vertical-align: middle;\n",
              "    }\n",
              "\n",
              "    .dataframe tbody tr th {\n",
              "        vertical-align: top;\n",
              "    }\n",
              "\n",
              "    .dataframe thead th {\n",
              "        text-align: right;\n",
              "    }\n",
              "</style>\n",
              "<table border=\"1\" class=\"dataframe\">\n",
              "  <thead>\n",
              "    <tr style=\"text-align: right;\">\n",
              "      <th></th>\n",
              "      <th>Tweets</th>\n",
              "    </tr>\n",
              "  </thead>\n",
              "  <tbody>\n",
              "    <tr>\n",
              "      <th>0</th>\n",
              "      <td>Want to get your Season 19 Royale Pass at a di...</td>\n",
              "    </tr>\n",
              "    <tr>\n",
              "      <th>1</th>\n",
              "      <td>Wait - who gave Buddy Godzilla an energy drink...</td>\n",
              "    </tr>\n",
              "    <tr>\n",
              "      <th>2</th>\n",
              "      <td>Godzilla's been really lighting up Erangel rec...</td>\n",
              "    </tr>\n",
              "    <tr>\n",
              "      <th>3</th>\n",
              "      <td>We think our hearts just exploded 😫❤️ Thanks f...</td>\n",
              "    </tr>\n",
              "    <tr>\n",
              "      <th>4</th>\n",
              "      <td>Godzilla is wreaking havoc in Erangel and he h...</td>\n",
              "    </tr>\n",
              "    <tr>\n",
              "      <th>...</th>\n",
              "      <td>...</td>\n",
              "    </tr>\n",
              "    <tr>\n",
              "      <th>95</th>\n",
              "      <td>Yess way to lock down the String Ensemble Set ...</td>\n",
              "    </tr>\n",
              "    <tr>\n",
              "      <th>96</th>\n",
              "      <td>There's no feeling like maxing out your PUBG M...</td>\n",
              "    </tr>\n",
              "    <tr>\n",
              "      <th>97</th>\n",
              "      <td>We see you @hotjukes 👀🔥 https://t.co/Ciu7KDdFuE</td>\n",
              "    </tr>\n",
              "    <tr>\n",
              "      <th>98</th>\n",
              "      <td>Winning without a 🦺, 🎒, or 🪖 is tough, even fo...</td>\n",
              "    </tr>\n",
              "    <tr>\n",
              "      <th>99</th>\n",
              "      <td>Put a girly spin on your battleground aestheti...</td>\n",
              "    </tr>\n",
              "  </tbody>\n",
              "</table>\n",
              "<p>100 rows × 1 columns</p>\n",
              "</div>"
            ],
            "text/plain": [
              "                                               Tweets\n",
              "0   Want to get your Season 19 Royale Pass at a di...\n",
              "1   Wait - who gave Buddy Godzilla an energy drink...\n",
              "2   Godzilla's been really lighting up Erangel rec...\n",
              "3   We think our hearts just exploded 😫❤️ Thanks f...\n",
              "4   Godzilla is wreaking havoc in Erangel and he h...\n",
              "..                                                ...\n",
              "95  Yess way to lock down the String Ensemble Set ...\n",
              "96  There's no feeling like maxing out your PUBG M...\n",
              "97    We see you @hotjukes 👀🔥 https://t.co/Ciu7KDdFuE\n",
              "98  Winning without a 🦺, 🎒, or 🪖 is tough, even fo...\n",
              "99  Put a girly spin on your battleground aestheti...\n",
              "\n",
              "[100 rows x 1 columns]"
            ]
          },
          "metadata": {
            "tags": []
          },
          "execution_count": 22
        }
      ]
    },
    {
      "cell_type": "markdown",
      "metadata": {
        "id": "bLLPUSVFuJWy"
      },
      "source": [
        "### Data Cleaning\n",
        "*As its is a collection of raw tweets, it contain urls, id's, random numbers and text, emoji's, symbols etc those should be rermoved*"
      ]
    },
    {
      "cell_type": "code",
      "metadata": {
        "id": "P0bnSJEeuJWz"
      },
      "source": [
        "def cleantweet (text):\n",
        "    text= re.sub('@(A-Za-z0-9)+',' ', text)   #subract @, A-Z, a-z, 0-9\n",
        "    text= re.sub('#',' ', text)               #subtract #         \n",
        "    text= re.sub('RT(\\s)+',' ', text)         #subtract Retweets\n",
        "    text= re.sub('https?:\\/\\/\\S+',' ',text)        #subtract urls\n",
        "    return text"
      ],
      "execution_count": null,
      "outputs": []
    },
    {
      "cell_type": "code",
      "metadata": {
        "colab": {
          "base_uri": "https://localhost:8080/",
          "height": 418
        },
        "id": "TCWkNbzAuJW0",
        "outputId": "d9a45dd4-fb32-4ecf-9d98-892655f4095c"
      },
      "source": [
        "df['Tweets']= df['Tweets'].apply(cleantweet)\n",
        "df"
      ],
      "execution_count": null,
      "outputs": [
        {
          "output_type": "execute_result",
          "data": {
            "text/html": [
              "<div>\n",
              "<style scoped>\n",
              "    .dataframe tbody tr th:only-of-type {\n",
              "        vertical-align: middle;\n",
              "    }\n",
              "\n",
              "    .dataframe tbody tr th {\n",
              "        vertical-align: top;\n",
              "    }\n",
              "\n",
              "    .dataframe thead th {\n",
              "        text-align: right;\n",
              "    }\n",
              "</style>\n",
              "<table border=\"1\" class=\"dataframe\">\n",
              "  <thead>\n",
              "    <tr style=\"text-align: right;\">\n",
              "      <th></th>\n",
              "      <th>Tweets</th>\n",
              "    </tr>\n",
              "  </thead>\n",
              "  <tbody>\n",
              "    <tr>\n",
              "      <th>0</th>\n",
              "      <td>Want to get your Season 19 Royale Pass at a di...</td>\n",
              "    </tr>\n",
              "    <tr>\n",
              "      <th>1</th>\n",
              "      <td>Wait - who gave Buddy Godzilla an energy drink...</td>\n",
              "    </tr>\n",
              "    <tr>\n",
              "      <th>2</th>\n",
              "      <td>Godzilla's been really lighting up Erangel rec...</td>\n",
              "    </tr>\n",
              "    <tr>\n",
              "      <th>3</th>\n",
              "      <td>We think our hearts just exploded 😫❤️ Thanks f...</td>\n",
              "    </tr>\n",
              "    <tr>\n",
              "      <th>4</th>\n",
              "      <td>Godzilla is wreaking havoc in Erangel and he h...</td>\n",
              "    </tr>\n",
              "    <tr>\n",
              "      <th>...</th>\n",
              "      <td>...</td>\n",
              "    </tr>\n",
              "    <tr>\n",
              "      <th>95</th>\n",
              "      <td>Yess way to lock down the String Ensemble Set ...</td>\n",
              "    </tr>\n",
              "    <tr>\n",
              "      <th>96</th>\n",
              "      <td>There's no feeling like maxing out your PUBG M...</td>\n",
              "    </tr>\n",
              "    <tr>\n",
              "      <th>97</th>\n",
              "      <td>We see you @hotjukes 👀🔥</td>\n",
              "    </tr>\n",
              "    <tr>\n",
              "      <th>98</th>\n",
              "      <td>Winning without a 🦺, 🎒, or 🪖 is tough, even fo...</td>\n",
              "    </tr>\n",
              "    <tr>\n",
              "      <th>99</th>\n",
              "      <td>Put a girly spin on your battleground aestheti...</td>\n",
              "    </tr>\n",
              "  </tbody>\n",
              "</table>\n",
              "<p>100 rows × 1 columns</p>\n",
              "</div>"
            ],
            "text/plain": [
              "                                               Tweets\n",
              "0   Want to get your Season 19 Royale Pass at a di...\n",
              "1   Wait - who gave Buddy Godzilla an energy drink...\n",
              "2   Godzilla's been really lighting up Erangel rec...\n",
              "3   We think our hearts just exploded 😫❤️ Thanks f...\n",
              "4   Godzilla is wreaking havoc in Erangel and he h...\n",
              "..                                                ...\n",
              "95  Yess way to lock down the String Ensemble Set ...\n",
              "96  There's no feeling like maxing out your PUBG M...\n",
              "97                          We see you @hotjukes 👀🔥  \n",
              "98  Winning without a 🦺, 🎒, or 🪖 is tough, even fo...\n",
              "99  Put a girly spin on your battleground aestheti...\n",
              "\n",
              "[100 rows x 1 columns]"
            ]
          },
          "metadata": {
            "tags": []
          },
          "execution_count": 24
        }
      ]
    },
    {
      "cell_type": "code",
      "metadata": {
        "id": "XIZbWj7juxhU"
      },
      "source": [
        ""
      ],
      "execution_count": null,
      "outputs": []
    },
    {
      "cell_type": "code",
      "metadata": {
        "id": "uoMuUhw3uJW2"
      },
      "source": [
        "def getSubjectivity(text):\n",
        " return TextBlob(text).sentiment.subjectivity\n",
        "# create a function to get the Polarity of all the tweets\n",
        "def getPolarity(text):\n",
        " return TextBlob(text).sentiment.polarity\n",
        "# create 2 columns 'Subjectivity' and 'Polarity'\n",
        "df['Subjectivity']= df['Tweets'].apply(getSubjectivity)\n",
        "df['Polarity']= df['Tweets'].apply(getPolarity)"
      ],
      "execution_count": null,
      "outputs": []
    },
    {
      "cell_type": "code",
      "metadata": {
        "colab": {
          "base_uri": "https://localhost:8080/",
          "height": 207
        },
        "id": "N-Y324QXucua",
        "outputId": "a3448c3b-49c6-4f5d-a579-a12e94520a4b"
      },
      "source": [
        "# Word Cloud Visualization\n",
        "allwords= ' '.join([i for i in df['Tweets']])\n",
        "Cloud= WordCloud(width=500,height=300,random_state=0,max_font_size=100).generate(allwords)\n",
        "plt.imshow(Cloud)\n",
        "plt.show()"
      ],
      "execution_count": null,
      "outputs": [
        {
          "output_type": "display_data",
          "data": {
            "image/png": "[encoded data removed]",
            "text/plain": [
              "<Figure size 432x288 with 1 Axes>"
            ]
          },
          "metadata": {
            "tags": [],
            "needs_background": "light"
          }
        }
      ]
    },
    {
      "cell_type": "code",
      "metadata": {
        "id": "fKW5_b4Cvdr8"
      },
      "source": [
        ""
      ],
      "execution_count": null,
      "outputs": []
    },
    {
      "cell_type": "code",
      "metadata": {
        "id": "Mj2eQ8LBuJW2",
        "colab": {
          "base_uri": "https://localhost:8080/",
          "height": 1000
        },
        "outputId": "18eeb6d7-e5f4-4ab1-a3ff-6a3b59b2d801"
      },
      "source": [
        "def getAnalysis(score):\n",
        "  if score<0:\n",
        "     return 'Negative'\n",
        "  elif score==0:\n",
        "     return 'Neutral'\n",
        "  else:\n",
        "      return 'Positive'\n",
        "df['Analysis']= df['Polarity'].apply(getAnalysis)\n",
        "df"
      ],
      "execution_count": null,
      "outputs": [
        {
          "output_type": "execute_result",
          "data": {
            "text/html": [
              "<div>\n",
              "<style scoped>\n",
              "    .dataframe tbody tr th:only-of-type {\n",
              "        vertical-align: middle;\n",
              "    }\n",
              "\n",
              "    .dataframe tbody tr th {\n",
              "        vertical-align: top;\n",
              "    }\n",
              "\n",
              "    .dataframe thead th {\n",
              "        text-align: right;\n",
              "    }\n",
              "</style>\n",
              "<table border=\"1\" class=\"dataframe\">\n",
              "  <thead>\n",
              "    <tr style=\"text-align: right;\">\n",
              "      <th></th>\n",
              "      <th>Tweets</th>\n",
              "      <th>Subjectivity</th>\n",
              "      <th>Polarity</th>\n",
              "      <th>Analysis</th>\n",
              "    </tr>\n",
              "  </thead>\n",
              "  <tbody>\n",
              "    <tr>\n",
              "      <th>0</th>\n",
              "      <td>Want to get your Season 19 Royale Pass at a di...</td>\n",
              "      <td>0.000000</td>\n",
              "      <td>0.000000</td>\n",
              "      <td>Neutral</td>\n",
              "    </tr>\n",
              "    <tr>\n",
              "      <th>1</th>\n",
              "      <td>Wait - who gave Buddy Godzilla an energy drink...</td>\n",
              "      <td>0.000000</td>\n",
              "      <td>0.000000</td>\n",
              "      <td>Neutral</td>\n",
              "    </tr>\n",
              "    <tr>\n",
              "      <th>2</th>\n",
              "      <td>Godzilla's been really lighting up Erangel rec...</td>\n",
              "      <td>0.427778</td>\n",
              "      <td>0.211111</td>\n",
              "      <td>Positive</td>\n",
              "    </tr>\n",
              "    <tr>\n",
              "      <th>3</th>\n",
              "      <td>We think our hearts just exploded 😫❤️ Thanks f...</td>\n",
              "      <td>0.100000</td>\n",
              "      <td>0.100000</td>\n",
              "      <td>Positive</td>\n",
              "    </tr>\n",
              "    <tr>\n",
              "      <th>4</th>\n",
              "      <td>Godzilla is wreaking havoc in Erangel and he h...</td>\n",
              "      <td>0.300000</td>\n",
              "      <td>1.000000</td>\n",
              "      <td>Positive</td>\n",
              "    </tr>\n",
              "    <tr>\n",
              "      <th>...</th>\n",
              "      <td>...</td>\n",
              "      <td>...</td>\n",
              "      <td>...</td>\n",
              "      <td>...</td>\n",
              "    </tr>\n",
              "    <tr>\n",
              "      <th>95</th>\n",
              "      <td>Yess way to lock down the String Ensemble Set ...</td>\n",
              "      <td>0.288889</td>\n",
              "      <td>-0.155556</td>\n",
              "      <td>Negative</td>\n",
              "    </tr>\n",
              "    <tr>\n",
              "      <th>96</th>\n",
              "      <td>There's no feeling like maxing out your PUBG M...</td>\n",
              "      <td>0.000000</td>\n",
              "      <td>0.000000</td>\n",
              "      <td>Neutral</td>\n",
              "    </tr>\n",
              "    <tr>\n",
              "      <th>97</th>\n",
              "      <td>We see you @hotjukes 👀🔥</td>\n",
              "      <td>0.000000</td>\n",
              "      <td>0.000000</td>\n",
              "      <td>Neutral</td>\n",
              "    </tr>\n",
              "    <tr>\n",
              "      <th>98</th>\n",
              "      <td>Winning without a 🦺, 🎒, or 🪖 is tough, even fo...</td>\n",
              "      <td>0.770833</td>\n",
              "      <td>0.402778</td>\n",
              "      <td>Positive</td>\n",
              "    </tr>\n",
              "    <tr>\n",
              "      <th>99</th>\n",
              "      <td>Put a girly spin on your battleground aestheti...</td>\n",
              "      <td>0.644444</td>\n",
              "      <td>0.215278</td>\n",
              "      <td>Positive</td>\n",
              "    </tr>\n",
              "  </tbody>\n",
              "</table>\n",
              "<p>100 rows × 4 columns</p>\n",
              "</div>"
            ],
            "text/plain": [
              "                                               Tweets  ...  Analysis\n",
              "0   Want to get your Season 19 Royale Pass at a di...  ...   Neutral\n",
              "1   Wait - who gave Buddy Godzilla an energy drink...  ...   Neutral\n",
              "2   Godzilla's been really lighting up Erangel rec...  ...  Positive\n",
              "3   We think our hearts just exploded 😫❤️ Thanks f...  ...  Positive\n",
              "4   Godzilla is wreaking havoc in Erangel and he h...  ...  Positive\n",
              "..                                                ...  ...       ...\n",
              "95  Yess way to lock down the String Ensemble Set ...  ...  Negative\n",
              "96  There's no feeling like maxing out your PUBG M...  ...   Neutral\n",
              "97                          We see you @hotjukes 👀🔥    ...   Neutral\n",
              "98  Winning without a 🦺, 🎒, or 🪖 is tough, even fo...  ...  Positive\n",
              "99  Put a girly spin on your battleground aestheti...  ...  Positive\n",
              "\n",
              "[100 rows x 4 columns]"
            ]
          },
          "metadata": {
            "tags": []
          },
          "execution_count": 39
        }
      ]
    },
    {
      "cell_type": "code",
      "metadata": {
        "id": "AcC-nxdMuJW3",
        "colab": {
          "base_uri": "https://localhost:8080/"
        },
        "outputId": "bd5f78f6-d1d2-455b-865b-8db19f00db2f"
      },
      "source": [
        "df['Analysis'].value_counts()"
      ],
      "execution_count": null,
      "outputs": [
        {
          "output_type": "execute_result",
          "data": {
            "text/plain": [
              "Positive    58\n",
              "Neutral     29\n",
              "Negative    13\n",
              "Name: Analysis, dtype: int64"
            ]
          },
          "metadata": {
            "tags": []
          },
          "execution_count": 40
        }
      ]
    },
    {
      "cell_type": "code",
      "metadata": {
        "id": "MQa8FZRguJW3",
        "colab": {
          "base_uri": "https://localhost:8080/",
          "height": 248
        },
        "outputId": "708fec72-914e-4119-8791-e0f666367951"
      },
      "source": [
        "# plotting scatter plot\n",
        "plt.figure(figsize=(8,6))\n",
        "for i in range(0,df.shape[0]):\n",
        " plt.scatter(df['Polarity'][i],df['Subjectivity'][i],color='Blue')\n",
        " \n",
        "plt.title(\"Sentiment Analysis\")\n",
        "plt.xlim(-1,1)\n",
        "plt.xlabel('Polarity')\n",
        "plt.ylabel('Subjectivity')\n",
        "plt.show()"
      ],
      "execution_count": null,
      "outputs": [
        {
          "output_type": "display_data",
          "data": {
            "image/png": "[encoded data removed]",
            "text/plain": [
              "<Figure size 576x432 with 1 Axes>"
            ]
          },
          "metadata": {
            "tags": [],
            "needs_background": "light"
          }
        }
      ]
    },
    {
      "cell_type": "code",
      "metadata": {
        "id": "lImZozT1vjtB",
        "colab": {
          "base_uri": "https://localhost:8080/",
          "height": 266
        },
        "outputId": "661d945d-20b9-4ca6-e0bd-e04800cea24f"
      },
      "source": [
        " df['Analysis'].value_counts().plot(kind='bar')\n",
        "plt.title(\"Sentiment Analysis\")\n",
        "plt.xlabel('Polarity')\n",
        "plt.ylabel('Count')\n",
        "plt.show()"
      ],
      "execution_count": null,
      "outputs": [
        {
          "output_type": "display_data",
          "data": {
            "image/png": "[encoded data removed]",
            "text/plain": [
              "<Figure size 432x288 with 1 Axes>"
            ]
          },
          "metadata": {
            "tags": [],
            "needs_background": "light"
          }
        }
      ]
    },
    {
      "cell_type": "code",
      "metadata": {
        "id": "wcuUxp8GvsJ_",
        "colab": {
          "base_uri": "https://localhost:8080/"
        },
        "outputId": "23966e1a-405c-45cd-bde7-aa41afbb1185"
      },
      "source": [
        "# Lets get positive tweets only\n",
        "i=1\n",
        "sortedDF = df.sort_values(by=['Polarity'],ascending=False)\n",
        "for j in range(0,sortedDF.shape[0]):\n",
        "  if (sortedDF['Analysis'][j]=='Positive'):\n",
        "   print(str(i)+ ') ' + sortedDF['Tweets'][j])\n",
        "   print()\n",
        "   i=i+1"
      ],
      "execution_count": null,
      "outputs": [
        {
          "output_type": "stream",
          "text": [
            "1) Godzilla's been really lighting up Erangel recently ⚡👀 Team Godzilla, how have your Titan Strikes encounters with Godzilla been going?! We've heard he gets easily irritated, so watch out... 😬  PUBGMOBILE  GodzillaVsKong  TeamGodzilla\n",
            "\n",
            "Hop in-game now 🔗    \n",
            "\n",
            "2) We think our hearts just exploded 😫❤️ Thanks for giving back to your community @BiteGamingg! 🎁  \n",
            "\n",
            "3) Godzilla is wreaking havoc in Erangel and he has drafted some of PUBG MOBILE's best players to battle against Kong in a war of the titans! ⚔️ \n",
            "\n",
            "Any guesses who is on  TeamGodzilla? 🤔  \n",
            "\n",
            "4) Who’s going to take home the $25,000 grand prize? 😱 Catch the season finale of GameOn Titans with Powerbang, Seum, and some special guests! 💫🎉 Airs May 12th @ 5pm PST on   📺  \n",
            "\n",
            "5) ⚠️ CAUTION: This video contains dangerous levels of cuteness ⚠️ Meet Buddy Godzilla and Buddy Kong, the adorable miniature versions of your favorite Titans! 😍💛  PUBGMOBILE  GodzillaVsKong  TeamGodzilla\n",
            "\n",
            "Get your favorite  PUBGMCompanion today! 🔗    \n",
            "\n",
            "6)  TeamGodzilla, where you at?! 😤🙌 Ready or not, it's time to meet the King of the Monsters in-game, players! 👋 Have you encountered this legendary Titan yet?! 😯  PUBGMOBILE  GodzillaVsKong\n",
            "\n",
            "Hop in-game now! 🔗    \n",
            "\n",
            "7)  @PicklesGGs: Yo @PUBGMOBILE players! We doing the LIVE SPIN TODAY for HOLA BUDDY and the BOTH Titan outfits. I'm guessing 32k UC!  letsR…\n",
            "\n",
            "8) Want to win an awesome permanent outfit award and say hi to your favorite Titan while you're at it?! 😏 Then check out our new Power of Titans Event! 💙⚡\n",
            "\n",
            "Hop in-game now to participate! 🔗    \n",
            "\n",
            "9) Wait no more for Godzilla🦖and Kong🦍!  Ver. 1.4 is available for everyone now on iOS via the App Store!\n",
            "For Android, download the APK here!\n",
            "🔗   \n",
            "\n",
            "10) Consider this your personal guide to the brand new Titan Strikes game mode! 📖🙌 If you're ready to level up your gameplay and check out Godzilla and Kong, then Titan Strikes mode is perfect for you! ✅ 🦍 \n",
            "\n",
            "Parachute into the new mode now! 🔗    \n",
            "\n",
            "11) Our favorite part about the Godzilla Suit and Kong Set is... everything 😳 From epic transportation skins to awesome pint-sized sidekicks, these sets are a MUST ⚠️🤩\n",
            "\n",
            "Transform your battlegrounds look now! 🔗    \n",
            "\n",
            "12) Assert yourself as a titan of the battlegrounds with the Godzilla Suit and Kong Set! 😯⚡ If there's a perfect time to level up your combat look, it's now! 🤩💥 \n",
            "\n",
            "Get the epic looks now! 🔗    \n",
            "\n",
            "13) Godzilla and Kong are about to clash in a battle of epic proportions! 💥 Who will fall, and who will triumph? 🦍🍃  PUBGMOBILE  GodzillaVsKong  TeamKong  TeamGodzilla\n",
            "\n",
            "Hop in-game now! 🔗    \n",
            "\n",
            "14) There's no stopping the  BanPan! 🍳 From April 30 - May 6, we banned 1,620,625 accounts from accessing our game. The majority of reasons include:\n",
            "\n",
            "❌ Auto-Aim Hacks\n",
            "❌ X-Ray Vision\n",
            "❌ Modification of Area Damage\n",
            "\n",
            "Learn more at \n",
            "   PUBGMOBILE  \n",
            "\n",
            "15) One will fall! ☠️ \n",
            "\n",
            "A slew of exciting new PUBG MOBILE features comin' in HOT! 🔥 \n",
            "\n",
            "Version 1.4 goes live on May 11th featuring Titan Strikes, the new Hangar Arena map, OTS Mode, and more! \n",
            "\n",
            " PUBGMOBILE  PUBGMUPDATE  \n",
            "\n",
            "16) Godzilla and Kong aren't the only things coming to  PUBGMOBILE in  PUBGMUPDATE 1.4 😉 \n",
            "✔️ Titanic Dynamic Duo\n",
            "✔️ New Cheer Park Weapons\n",
            "✔️ New Modes\n",
            "✔️ New Arena Maps\n",
            "\n",
            "Be sure to keep your 👂 to the ground and your 👀 open for the official patch notes coming soon!  \n",
            "\n",
            "17) The verdict is in! 🌟👀  TeamGodzillaPUBGM has come out on top! 🤘⚡ We've also randomly gifted 3 commenters a Straps R Us Set! Congrats @YounisJarwar &amp; @ATerrenzio of Twitter, and @mohammed_shadhi_p of Instagram! We will reach out to you soon 💫  \n",
            "\n",
            "18) Players, we just received brand new footage of a Godzilla sighting! 📹😲 What do you think Godzilla's next move will be? 😳💭  PUBGMOBILE  GodzillaVsKong  \n",
            "\n",
            "19) Looks like it's going pretty well 💑😊 Do you play a lot of matches as a duo or do you like to play seperately? 🔫🧑‍🤝‍🧑  \n",
            "\n",
            "20) Players, don't miss your opportunity to secure the bag - in the easiest giveaway possibly ever made! 😎💰 We're giving away $1️⃣0️⃣0️⃣ USD worth of UC to 3️⃣ winners! 😍\n",
            "\n",
            "Join our giveaway now! 🔗    \n",
            "\n",
            "21) Take a ride down memory lane with The History of PUBG MOBILE event's first place trailer! 🎥🍿 We love the way that Blaster Esports captured the spirit of our maps and past collaborations 🤩👏 10/10 would watch this documentary 🎬🌟⬇️\n",
            " \n",
            "\n",
            "22) He really wasn't feeling your dance moves 😳🕺✖️  \n",
            "\n",
            "23) Has someone special parachuted into your life thanks to PUBG MOBILE? 💛🖤 Have you met your bro for life on the battlegrounds? 👬 Share your PUBG MOBILE friendship or love story in the comments! ⬇️😊  \n",
            "\n",
            "24) So satisfying 🤤🎯  \n",
            "\n",
            "25) \"4 score and 0 years ago...\" -Us recounting  @donutchoppaz's satisfying squad wipe 🔥🔫  \n",
            "\n",
            "26) Spin the globe, players... 🌏 What PUBG MOBILE map would you visit in real life? 🗺️📍 Were you born to be an Erangel Explorer? 🍃🌳 Or is vacationing by the sea in Sanhok your speed? 🏖️🌴☀️ Let us know below! ⬇️  \n",
            "\n",
            "27) How has it already been two years?! 🥲🖤 Your first match feels like yesterday...  \n",
            "\n",
            "28) No, this is not a list of Oscar nominees (yet 😉🎥). It's \"The History of PUBG MOBILE\" community event winners! 🤩✨ These talented players created and submitted their very own PUBG MOBILE documentary trailers 🍿🎬🌟 Congratulations, winners! 💫  \n",
            "\n",
            "29) Not a great day to be a 🐼, that's for sure 😨😱  \n",
            "\n",
            "30) The Monday vibes are strong with this one 😭📆  \n",
            "\n",
            "31) Meet  KARAKIN! 🔥 A much smaller map than Miramar with more resources, intense combat, and no vehicles. Can you handle the heat?! 🏜️🌴☀️  PUBGMOBILE\n",
            "\n",
            "Parachute into the action today! 🔗    \n",
            "\n",
            "32) As the legendary titans prepare to clash, we have to know - are you team  TeamGodzillaPUBGM or  TeamKongPUBGM?! 😲💥🦍 Share your titan's hashtag below and tell us why they're better! 😤 ✅  GodzillavsKong  PUBGM\n",
            "\n",
            "Hop into the game now! 🔗    \n",
            "\n",
            "33) The  BanPan was on a roll this week! 🍳 From April 23rd-29th, we banned 1,662,734 accounts from accessing our game. The majority of reasons include:\n",
            "\n",
            "❌ Auto-Aim Hacks\n",
            "❌ X-Ray Vision\n",
            "❌ Speed Hacks\n",
            "\n",
            "Learn more at 🔗\n",
            "   PUBGMOBILE  \n",
            "\n",
            "34) Are you carefully calculated and confident like the Iron Tortoise, or do you prefer to blaze around the battlegrounds like the Speed Bunny? Either way, we have the PERFECT battlegrounds aesthetic for you 🔥😏 \n",
            "\n",
            "Grab the sets today! 🔗    \n",
            "\n",
            "35) Mysterious footprints? Strange skeletons? What could they mean? 👀 \n",
            "\n",
            "Find Titan tracks on Erangel and Sanhok, share a screenshot of what you find and tag us! 🏷️ Let's see who can collect the most tracks! 👣 \n",
            "\n",
            "Stay tuned for more coming soon! 😜  godzillavskong  pubgm  \n",
            "\n",
            "36) Slow and steady... doesn't crash and burn! 💥🔥😯  PUBGM  PUBGMOBILE\n",
            "\n",
            "Race to  1️ with the new Iron Tortoise and Speed Bunny set's available now! 🔗    \n",
            "\n",
            "37) Slow and steady? Or fast and reckless? 🐢 🐇 \n",
            "\n",
            "Grab the new Speed Bunny and Iron Tortoise set today! 🔗  \n",
            "\n",
            " PUBGM  PUBGMOBILE  \n",
            "\n",
            "38) More mysterious clues keep popping up on our maps by the day! 🤔 We have a feeling that Godzilla and Kong are doing more than just stopping by for a quick visit... 😳\n",
            "\n",
            "Mark your calendars for May 11th, players! Godzilla vs. Kong is coming to PUBG MOBILE! 🍃🦍🤩  \n",
            "\n",
            "39)  @MedalCore: LIVE NOW! Come join and watch us play and max out the new GROZA in @PUBGMOBILE :)\n",
            "\n",
            " \n",
            "\n",
            " PUBGMOBILE  spo…\n",
            "\n",
            "40) We love a good matchup, especially with talent like this 🔫😉💯  \n",
            "\n",
            "41) Get ready to roll through the battlegrounds competition in the Contemporary Wukong Set! 🤘💥\n",
            "\n",
            "Grab yours now! 🔗    \n",
            "\n",
            "42) How do we celebrate our VIPs of the Month? 😏🎉 The only way we know how: making them battle it out head to head on a livestream! 🔫😈 Catch all of the battlegrounds action LIVE on our official YouTube channel! 🍿💻📱\n",
            "\n",
            "Check out the match LIVE! 🔗    \n",
            "\n",
            "43) 👉 Players, meet our Karaking Clipping Event winners! 💫 These three submitted their favorite epic moments from the Karaking VIP showmatch 🍿  Winners, we will reach out to you on social media very soon! 😄🖤  \n",
            "\n",
            "44) Players, check out our new Prank Crates Event! 🤡💥 From now until May 9th, complete fun missions for your chance to win an awesome Pink Hedgehog Set! 💗🖤  \n",
            "\n",
            "45) Want to win a free Blood Raven X-Suit?! Here's your opportunity! 🎁✨🙊  \n",
            "\n",
            "46) If you can't do the time, don't do the crime 🍳❌ Play fairly and steer clear of the  BanPan! ✅  \n",
            "\n",
            "47) Our favorite kind of forecast! 🔫🌧️✨  \n",
            "\n",
            "48) It's always a good time to play PUBG MOBILE 🕑⚡️🕺  \n",
            "\n",
            "49) Players, what would you do if you came across this clearing? 🌾😯 Are you heading straight for the airdrop, or playing it safe and hanging back? ☀️🌳🤔💭  \n",
            "\n",
            "50) Earn up to $150USD in UC in our latest community event, Bullet Storm. Show us your best Karakin eliminations! 😎🎯\n",
            "\n",
            "Full event details 👇    \n",
            "\n",
            "51) Float above the noise on the battlegrounds in the Rosy Melody Set! 🌹🎹🎶 You'll be a picture of pure class in an elegant piano-inspired dress with tasteful rose accents 😍✨\n",
            "\n",
            "Grab your Rosy Melody Set now! 🔗    \n",
            "\n",
            "52) New show idea: \"Dolphin Dive Dynasty\" and it's just @VALKYRIE_PUBGM racking up the kills 🔫🎯🐬  \n",
            "\n",
            "53) Is it just us, or does it look like Godzilla and Kong have been sneaking around our maps lately? 🤔🗺️ Keep you eyes peeled for clues, players 👀🔍 And remember, our collaboration with Godzilla vs. Kong is dropping May 11 (UTC)! 🖤💛\n",
            "\n",
            "Learn more now! 🔗    \n",
            "\n",
            "54) Classy as a grand piano with a sassy pop of red, the Rosy Melody Set is one of our favorite music-inspired outfits! 🌹🎹❤️\n",
            "\n",
            "Get the Rosy Melody Set today! 🔗    \n",
            "\n",
            "55) Breaks? 🏝️ Our  BanPan's never heard of them 🍳💼 From April 16th-22nd, we banned 1,498,738 accounts from accessing our game. The majority of reasons include:\n",
            "\n",
            "❌ Auto-Aim Hacks\n",
            "❌ X-Ray Vision\n",
            "❌ Speed Hacks\n",
            "\n",
            "Learn more at 🔗  \n",
            " pubgmobile  \n",
            "\n",
            "56) 🔥⚠️ Call the Fire Department RIGHT NOW, because there's some fire plays going down in the Karakin VIP Showmatch! ⚠️🔥\n",
            "\n",
            "Watch LIVE to see who becomes KARAKING! 👑🔗    \n",
            "\n",
            "57) Winning without a 🦺, 🎒, or 🪖 is tough, even for an experienced PUBG MOBILE player! 😨 Who will secure the 🍗 dinner?! 🤯💫  \n",
            "\n",
            "58) Put a girly spin on your battleground aesthetic in the Snow Sakura Set! 🎀🌸 Who says your combat look can't be cute and girly?! 💕💅 \n",
            "\n",
            "Lock down the Snow Sakura Set now! 🔗    \n",
            "\n"
          ],
          "name": "stdout"
        }
      ]
    },
    {
      "cell_type": "code",
      "metadata": {
        "colab": {
          "base_uri": "https://localhost:8080/"
        },
        "id": "_J-o5DzRw9W1",
        "outputId": "6ff4f982-b3b8-461c-ef12-0be00bdf71e2"
      },
      "source": [
        "# Lets get negative tweets only\n",
        "i=1\n",
        "sortedDF = df.sort_values(by=['Polarity'],ascending=False)\n",
        "for j in range(0,sortedDF.shape[0]):\n",
        "  if (sortedDF['Analysis'][j]=='Negative'):\n",
        "   print(str(i)+ ') ' + sortedDF['Tweets'][j])\n",
        "   print()\n",
        "   i=i+1"
      ],
      "execution_count": null,
      "outputs": [
        {
          "output_type": "stream",
          "text": [
            "1) Players - Erangel has been taken over by Godzilla! 🙉🗺️ He's shaking things up and making gameplay more intense than ever 🎯🔫 Can you still take home the chicken dinner? 🏆👀  PUBGMOBILE  GodzillaVsKong  TeamGodzilla\n",
            "\n",
            "Hop in-game today! 🔗    \n",
            "\n",
            "2) He tired, he nap, he want a chicken dinner snacc 🍗😛 With Godzilla Buddy by your side, the battlegrounds just got a whole lot cuter 🤗💚  PUBGMOBILE  GodzillaVsKong  TeamGodzilla  PUBGMCompanion\n",
            "\n",
            "Get your Godzilla Buddy now! 🔗    \n",
            "\n",
            "3) Seeing some crazy stuff in Titan Strikes mode?! 😳 Record a clip of you with any Titan Strikes mode content in-game then follow the link below 😉🎥⚡  PicturewithGodzilla  PicturewithKong  PUBGMOBILE  GodzillaVsKong  TeamGodzilla  TeamKong\n",
            "\n",
            "Rules 🔗    \n",
            "\n",
            "4) Which side are YOU on?! 👈 👀 Now you can rep either  TeamGodzillaPUBGM or  TeamKongPUBGM on Facebook and Twitter with our epic avatar frames! 🖼️⚡\n",
            "\n",
            "Click the link below and scroll down to  5 on the list to deck out your profile pictures now! 🔗⬇️ \n",
            "   \n",
            "\n",
            "5) You didn't have to flex on us THIS hard 🤯😩  \n",
            "\n",
            "6) You heard it first in-game, now catch the brand new music video for \"GOING DUMB\" by @Alesso! 🎶  \n",
            "\n",
            "7) Engage your animal instincts with the Big Bad Wolf Set 🔥 Offering an edgy take on the classic storybook villain, the Big Bad Wolf Set is the perfect dose of punk rock 👊 🎸\n",
            "\n",
            "Grab yours now! 🔗    \n",
            "\n",
            "8) In the battle between  GodzillaVsKong will you stand behind them or between them 😬 \n",
            "\n",
            "Drop-in ✈️ gear up 🔫 and prepare yourself for a brand new  PUBGMOBILE experience 🐒 🐊  \n",
            "\n",
            "9) ⚠️ Players: It's not too late to suit up in a Blood Raven X-Suit! ⚠️ In this video, we'll  break down the steps required to lock down a Blood Raven Set (and cueing those jealous comments on the battlegrounds)! 🌹🖤\n",
            "\n",
            "Hop in-game today! 🔗    \n",
            "\n",
            "10) This just in! ⚠️ We believe one of our investigators on the ground may have just come face to face with Kong! 🦍🍃 We're still trying to reach the rest of our team in the area to warn them, but it looks like we might be too late... 😳🚨  GodzillaVsKong  PUBGMOBILE  \n",
            "\n",
            "11) Players - watch out! 😳 We had our team do some further investigating into recent evidence of Godzilla and Kong's presence, but unfortunately we may have put them in danger... ⚠️😨  GodzillaVsKong  PUBGMOBILE  \n",
            "\n",
            "12) Thanks for helping us take down the bad guys! 👏🍳✨  \n",
            "\n",
            "13) Yess way to lock down the String Ensemble Set 👏🔒  \n",
            "\n"
          ],
          "name": "stdout"
        }
      ]
    },
    {
      "cell_type": "code",
      "metadata": {
        "colab": {
          "base_uri": "https://localhost:8080/"
        },
        "id": "cHEmTOhQxM-t",
        "outputId": "6dd52726-6c7e-4e1e-9d65-9c4a76cbbf9d"
      },
      "source": [
        "# Lets get neutral tweets only\n",
        "i=1\n",
        "sortedDF = df.sort_values(by=['Polarity'],ascending=False)\n",
        "for j in range(0,sortedDF.shape[0]):\n",
        "  if (sortedDF['Analysis'][j]=='Neutral'):\n",
        "   print(str(i)+ ') ' + sortedDF['Tweets'][j])\n",
        "   print()\n",
        "   i=i+1"
      ],
      "execution_count": null,
      "outputs": [
        {
          "output_type": "stream",
          "text": [
            "1) Want to get your Season 19 Royale Pass at a discount? 🔰 From now until May 16, take advantage of the Group Purchase Perks event in-game to get your RP19 pass 😎 You can either join a group, or create one - it's up to you! 💚 \n",
            "\n",
            "Check out Season 19 now! 🔗    \n",
            "\n",
            "2) Wait - who gave Buddy Godzilla an energy drink?!? 😳🥤 The cutest sidekick ever has landed in PUBG MOBILE to stand alongside you in combat 💥  PUBGMOBILE  GodzillaVsKong  TeamGodzilla  PUBGMCompanion\n",
            "\n",
            "Get Buddy Godzilla today! 🔗    \n",
            "\n",
            "3) Erangel is his now... 🗺️👀 Learn how to dominate Titan Strikes mode alongside Godzilla with our helpful Patch Notes below! 🏆⬇️  PUBGMOBILE  GodzillaVsKong  TeamGodzilla\n",
            "\n",
            "Patch notes 🔗    \n",
            "\n",
            "4) @BobTheFish1238  \n",
            "\n",
            "5) Nothing gets between @theVita4Law and their targets... even trees 🔥😳🌳🎯  \n",
            "\n",
            "6) Congrats! 🔥 Now you have to have everyone change your name to Ace in their contacts 😎📲  \n",
            "\n",
            "7) When's your next class?! 👨‍🏫🥋  \n",
            "\n",
            "8) But did they believe you?! 😂🔥  \n",
            "\n",
            "9) This week, the Titans are putting the pedal to the metal! 💥 Have you ever landed a backflip with a motorcycle in Erangel? 🏍️🔥  \n",
            "\n",
            "10) 🗣️📢 \"Get off the roof. We repeat, get off the roof\"  \n",
            "\n",
            "11) Fire aim 🎯 &gt; actual fire 🔥  \n",
            "\n",
            "12) When you don't like how your squad is handling things in-game but don't know how to tell them 😂  \n",
            "\n",
            "13) We just want what you guys have 🥲🖤  \n",
            "\n",
            "14) Isaac Newton is somewhere punching the air rn ✈️😅  \n",
            "\n",
            "15) @Feitz_ taking \"slay all day\" literally 💯🎯  \n",
            "\n",
            "16) Knock knock, who's there? Oh, wait... 🔫🎯  \n",
            "\n",
            "17) You can't rate perfection ☺️💯  \n",
            "\n",
            "18) There's no hope without that 8x Scope 🤷‍♂️🎯 Do you think all of the players will find one? 🤔💭  \n",
            "\n",
            "19) Congratulations to our April VIPs of the month @NickyDex, @theBushka, and @themissallyy! 🏆🤩 \n",
            "\n",
            "Get to know them and find out why we can't get enough of their content! 💻🍿🔗    \n",
            "\n",
            "20) Like a battlegrounds boss 🔥😎💼  \n",
            "\n",
            "21) Us after watching this sniper shot: 🔥😯  \n",
            "\n",
            "22) Struggling with close combat? Regain control by checking out this tutorial series by the master himself @XifanPUBGM 🎯🔥  \n",
            "\n",
            "23) You're OP 🔥🎯🔫  \n",
            "\n",
            "24)  @ShredderTV_: WST Pro Event Kicks off monday at 7pm est followed by day 2 Wednesday and day 3 Thursday all 7pm est start all our pmpl NA…\n",
            "\n",
            "25) Players, where in the world are you?! 🙉🌎 Not like that - where are you playing PUBG MOBILE from? 😅 🗺️📍 Drop your country in the comments and represent! ⬇️😎  \n",
            "\n",
            "26) Looks like you can handle the intensity 👏🔥😎  \n",
            "\n",
            "27) OP aim 🔥🎯😍  \n",
            "\n",
            "28) There's no feeling like maxing out your PUBG MOBILE passport 😊🌎✨  \n",
            "\n",
            "29) We see you @hotjukes 👀🔥  \n",
            "\n"
          ],
          "name": "stdout"
        }
      ]
    }
  ]
}